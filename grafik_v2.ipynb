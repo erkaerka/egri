{
 "cells": [
  {
   "cell_type": "code",
   "execution_count": null,
   "metadata": {},
   "outputs": [],
   "source": [
    "import matplotlib.pyplot as plt\n",
    "import numpy as np\n",
    "x=np.linspace(0, 10, 101)"
   ]
  },
  {
   "cell_type": "code",
   "execution_count": null,
   "metadata": {},
   "outputs": [],
   "source": [
    "def g(a,b,c,x) : \n",
    "    #girilen katsayılarla en fazla ikinci dereceden polinom oluştur\n",
    "    return a*(x**2)+b*x+c"
   ]
  },
  {
   "cell_type": "code",
   "execution_count": null,
   "metadata": {},
   "outputs": [],
   "source": [
    "def nokta(a,b,c,x):\n",
    "    # g fonksiyonun etrafında rastgele nokta kümesi oluştur\n",
    "    return g(a,b,c,x)+np.random.normal(0,1,len(g(a,b,c,x)))"
   ]
  },
  {
   "cell_type": "code",
   "execution_count": null,
   "metadata": {},
   "outputs": [],
   "source": [
    "def f(a1,b1,c1,x) :\n",
    "    # katsayılarını güncelleyen fonksiyon \n",
    "    return a1*(x**2)+b1*x+c1"
   ]
  },
  {
   "cell_type": "code",
   "execution_count": null,
   "metadata": {},
   "outputs": [],
   "source": [
    "def gradyan(a1,b1,c1,x,y):\n",
    "    # noktalarla f fonksiyonun farkının karesinin a1,b1 ve c1 katsayılarına göre türevlerini eksiyle çarpıp listele\n",
    "    l=[0,0,0]    \n",
    "    #a1   \n",
    "    l[0]=-sum(-2*x**2*y+2*a1*x**4+2*b1*x**3+2*c1*x**2) \n",
    "    \n",
    "    #b1\n",
    "    l[1]=-sum(-2*x*y+2*a1*x**3+2*b1*x**2+2*c1*x)\n",
    "    \n",
    "    #c1\n",
    "    l[2]=-sum(-2*y+2*a1*x**2+2*b1*x+2*c1)\n",
    "                                       \n",
    "    return l"
   ]
  },
  {
   "cell_type": "code",
   "execution_count": null,
   "metadata": {},
   "outputs": [],
   "source": [
    "def hata(a,b,c,y,x,a1,b1,c1) :\n",
    "    # g,f ve p fonksiyonlarının hatalarını karşılaştır\n",
    "    l=[]\n",
    "    l.append(sum((y-g(a,b,c,x))**2))\n",
    "    l.append(sum((y-f(a1,b1,c1,x))**2))\n",
    "    l.append(sum((y-p(x))**2))\n",
    "    l.append(l[1]-l[0])\n",
    "    l.append(l[1]-l[2])\n",
    "    for i in l :\n",
    "        print(i)"
   ]
  },
  {
   "cell_type": "code",
   "execution_count": null,
   "metadata": {},
   "outputs": [],
   "source": [
    "fig,ax=plt.subplots()\n",
    "# g fonksiyonunun katsayılarını gir\n",
    "a=float(input(\"a : \"))\n",
    "b=float(input(\"b : \"))\n",
    "c=float(input(\"c : \"))\n",
    "# f fonksiyonunun katsayılarının her birini 0 dan başlat\n",
    "a1=0\n",
    "b1=0\n",
    "c1=0\n",
    "# nokta() fonksiyonunu tekrar çağırmamak için değerleri y değişkenine ata\n",
    "y=nokta(a,b,c,x)\n",
    "# noktaları çiz\n",
    "ax.plot(x,y,\".\")\n",
    "# g fonksiyonunu çiz\n",
    "ax.plot(x,g(a,b,c,x),\"-\",label='g')\n",
    "i=0\n",
    "while i<3000 :\n",
    "    # gradyan() fonksiyonunu tekrar çağırmamak için değerleri d değişkenine ata\n",
    "    d=gradyan(a1,b1,c1,x,y)\n",
    "    # parametreleri takip etmek için belli aralıklara yazdır  \n",
    "    if i%500==0 :        \n",
    "        print(d)\n",
    "        print(a1,b1,c1)\n",
    "        print()\n",
    "    # f fonksiyonunun katsayılarını hatayı en aza indirecek şekilde güncelle\n",
    "    a1+=d[0]*0.000004\n",
    "    b1+=d[1]*0.00001\n",
    "    c1+=d[2]*0.0001    \n",
    "    i+=1\n",
    "# hazır fonksiyon\n",
    "p=np.polynomial.polynomial.Polynomial.fit(x,y,2)\n",
    "# f ve p fonksiyonlarının son halini çiz\n",
    "hata(a,b,c,y,x,a1,b1,c1)\n",
    "ax.plot(x,f(a1,b1,c1,x),\"-\",label='f') \n",
    "ax.plot(x,p(x),\"-\",label='p')\n",
    "ax.legend()"
   ]
  }
 ],
 "metadata": {
  "kernelspec": {
   "display_name": "Python 3",
   "language": "python",
   "name": "python3"
  },
  "language_info": {
   "codemirror_mode": {
    "name": "ipython",
    "version": 3
   },
   "file_extension": ".py",
   "mimetype": "text/x-python",
   "name": "python",
   "nbconvert_exporter": "python",
   "pygments_lexer": "ipython3",
   "version": "3.7.3"
  }
 },
 "nbformat": 4,
 "nbformat_minor": 2
}
