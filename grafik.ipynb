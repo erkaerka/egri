{
 "cells": [
  {
   "cell_type": "code",
   "execution_count": 92,
   "metadata": {},
   "outputs": [],
   "source": [
    "import matplotlib.pyplot as plt\n",
    "import numpy as np\n",
    "import random as rn\n",
    "x=np.linspace(0, 10, 100)\n",
    "def g() : \n",
    "    #girilen katsayılarla en fazla ikinci dereceden polinom oluştur\n",
    "    return a*(x**2)+b*x+c\n",
    "def nokta():\n",
    "    # g fonksiyonun etrafında rastgele nokta kümesi oluştur\n",
    "    l=[]\n",
    "    for i in g():\n",
    "        l.append(i+np.random.normal(0,1))\n",
    "    return np.array(l)\n",
    "def f() :\n",
    "    # katsayılarını güncelleyen fonksiyon \n",
    "    return a1*(x**2)+b1*x+c1\n",
    "\n",
    "def gradyan():\n",
    "    # noktalarla f fonksiyonun farkının karesinin a1,b1 ve c1 katsayılarına göre türevlerini eksiyle çarpıp listele\n",
    "    t=0\n",
    "    l=[0,0,0]\n",
    "    #a1\n",
    "    for i in range(100) :\n",
    "        t+=-2*x[i]**2*y[i]+2*a1*x[i]**4+2*b1*x[i]**3+2*c1*x[i]**2                                               \n",
    "    l[0]=-t\n",
    "    t=0\n",
    "    #b1\n",
    "    for i in range(100) :\n",
    "        t+=-2*x[i]*y[i]+2*a1*x[i]**3+2*b1*x[i]**2+2*c1*x[i]\n",
    "                                            \n",
    "    l[1]=-t\n",
    "    t=0\n",
    "    #c1\n",
    "    for i in range(100) :\n",
    "        t+=-2*y[i]+2*a1*x[i]**2+2*b1*x[i]+2*c1\n",
    "                                       \n",
    "    l[2]=-t\n",
    "    return l\n",
    " \n",
    "def hata() :\n",
    "    # g,f ve p fonksiyonlarının hatalarını karşılaştır\n",
    "    t=0\n",
    "    l=[]\n",
    "    for i in range(100) :\n",
    "        t+=(y[i]-g()[i])**2\n",
    "    l.append(t)\n",
    "    t=0\n",
    "    for i in range(100) :\n",
    "        t+=(y[i]-f()[i])**2\n",
    "    l.append(t)\n",
    "    t=0\n",
    "    for i in range(100) :\n",
    "        t+=(y[i]-p(x)[i])**2\n",
    "    l.append(t)\n",
    "    l.append(l[1]-l[0])\n",
    "    l.append(l[1]-l[2])\n",
    "    for i in l :\n",
    "        print(i)"
   ]
  },
  {
   "cell_type": "code",
   "execution_count": 94,
   "metadata": {},
   "outputs": [
    {
     "name": "stdout",
     "output_type": "stream",
     "text": [
      "a : 1\n",
      "b : 0\n",
      "c : 0\n",
      "[406163.59774653893, 50533.780486133466, 6708.5940542114795]\n",
      "0 0 0\n",
      "\n",
      "[1.7416827372594526, -7.177406030172307, 1.1932833631217075]\n",
      "0.987197430146696 0.1283709445979815 -0.177626727198052\n",
      "\n",
      "[1.0501348775143242, -4.62356235994784, 0.940620771827458]\n",
      "0.989826805036816 0.09983225407672526 -0.12175844701137163\n",
      "\n",
      "[0.7130967946912392, -3.1404476564067423, 0.6393329114418731]\n",
      "0.9915687595588933 0.08065449590619986 -0.08272162592977886\n",
      "\n",
      "[0.48444777772596126, -2.1334891535095437, 0.4343371726778744]\n",
      "0.9927520645178317 0.06762642582686637 -0.0561990050596175\n",
      "\n",
      "[0.32911383989454635, -1.4494045431506208, 0.29507076506960805]\n",
      "0.9935559528491882 0.05877569351414335 -0.038180623905762254\n",
      "\n",
      "60.92510850651253\n",
      "60.58736508147528\n",
      "60.57836406467377\n",
      "-0.33774342503724597\n",
      "0.009001016801512662\n"
     ]
    },
    {
     "data": {
      "text/plain": [
       "<matplotlib.legend.Legend at 0x154a42471d0>"
      ]
     },
     "execution_count": 94,
     "metadata": {},
     "output_type": "execute_result"
    },
    {
     "data": {
      "image/png": "[encoded data removed]",
      "text/plain": [
       "<Figure size 432x288 with 1 Axes>"
      ]
     },
     "metadata": {
      "needs_background": "light"
     },
     "output_type": "display_data"
    }
   ],
   "source": [
    "fig,ax=plt.subplots()\n",
    "# g fonksiyonunun katsayılarını gir\n",
    "a=float(input(\"a : \"))\n",
    "b=float(input(\"b : \"))\n",
    "c=float(input(\"c : \"))\n",
    "# f fonksiyonunun katsayılarının her birini 0 dan başlat\n",
    "a1=0\n",
    "b1=0\n",
    "c1=0\n",
    "# nokta() fonksiyonunu tekrar çağırmamak için değerleri y değişkenine ata\n",
    "y=nokta()\n",
    "# noktaları çiz\n",
    "ax.plot(x,y,\".\")\n",
    "# g fonksiyonunu çiz\n",
    "ax.plot(x,g(),\"-\",label='g')\n",
    "i=0\n",
    "while i<3000 :\n",
    "    # gradyan() fonksiyonunu tekrar çağırmamak için değerleri d değişkenine ata\n",
    "    d=gradyan()\n",
    "    # parametreleri takip etmek için belli aralıklara yazdır\n",
    "    if i%500==0 :        \n",
    "        print(d)\n",
    "        print(a1,b1,c1)\n",
    "        print()\n",
    "    # f fonksiyonunun katsayılarını hatayı en aza indirecek şekilde güncelle\n",
    "    a1+=d[0]*0.000004\n",
    "    b1+=d[1]*0.00001\n",
    "    c1+=d[2]*0.0001    \n",
    "    i+=1\n",
    "# hazır fonksiyon\n",
    "p=np.polynomial.polynomial.Polynomial.fit(x,y,2)\n",
    "# f ve p fonksiyonlarının son halini çiz\n",
    "hata()\n",
    "ax.plot(x,f(),\"-\",label='f') \n",
    "ax.plot(x,p(x),\"-\",label='p')\n",
    "ax.legend()\n"
   ]
  },
  {
   "cell_type": "code",
   "execution_count": null,
   "metadata": {},
   "outputs": [],
   "source": []
  }
 ],
 "metadata": {
  "kernelspec": {
   "display_name": "Python 3",
   "language": "python",
   "name": "python3"
  },
  "language_info": {
   "codemirror_mode": {
    "name": "ipython",
    "version": 3
   },
   "file_extension": ".py",
   "mimetype": "text/x-python",
   "name": "python",
   "nbconvert_exporter": "python",
   "pygments_lexer": "ipython3",
   "version": "3.7.3"
  }
 },
 "nbformat": 4,
 "nbformat_minor": 2
}
